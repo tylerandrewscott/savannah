{
 "cells": [
  {
   "cell_type": "code",
   "execution_count": 20,
   "metadata": {
    "collapsed": false
   },
   "outputs": [],
   "source": [
    "import requests\n",
    "import re\n",
    "from bs4 import BeautifulSoup\n",
    "ga_303_2010 = 'https://iaspub.epa.gov/waters10/attains_impaired_waters.impaired_waters_list?p_state=GA&p_cycle=2010'\n",
    "# Scrape the HTML at the url\n",
    "r = requests.get(ga_303_2010)\n",
    "# Turn the HTML into a Beautiful Soup object\n",
    "soup = BeautifulSoup(r.text, 'lxml')\n",
    "import pandas as pd"
   ]
  },
  {
   "cell_type": "code",
   "execution_count": 22,
   "metadata": {
    "collapsed": false
   },
   "outputs": [],
   "source": [
    "table = soup.findAll(\"table\", {\"class\":\"center\"})\n",
    "#tempdf = pd.read_html(str(table),header=0)[0]"
   ]
  },
  {
   "cell_type": "code",
   "execution_count": 32,
   "metadata": {
    "collapsed": false
   },
   "outputs": [],
   "source": []
  },
  {
   "cell_type": "code",
   "execution_count": 39,
   "metadata": {
    "collapsed": false
   },
   "outputs": [],
   "source": [
    "tempdf = pd.read_html(str(table),header=0)[0]\n",
    "names = soup.findAll(\"th\")\n",
    "name_vec = []\n",
    "for i in range(len(tempdf.columns)):\n",
    "    name_vec.append(names[i].text)\n",
    "tempdf.columns = name_vec"
   ]
  },
  {
   "cell_type": "code",
   "execution_count": 63,
   "metadata": {
    "collapsed": false
   },
   "outputs": [],
   "source": [
    "tempdf.to_csv('../input/georgia_2010_305b.csv')"
   ]
  },
  {
   "cell_type": "code",
   "execution_count": 65,
   "metadata": {
    "collapsed": true
   },
   "outputs": [],
   "source": [
    "gwp = 'http://www.georgiawaterplanning.org/index.php'\n",
    "r = requests.get(gwp)\n",
    "soup = BeautifulSoup(r.text, 'lxml')"
   ]
  },
  {
   "cell_type": "code",
   "execution_count": 70,
   "metadata": {
    "collapsed": false
   },
   "outputs": [],
   "source": [
    "map_obs = soup.findAll('map')"
   ]
  },
  {
   "cell_type": "code",
   "execution_count": 78,
   "metadata": {
    "collapsed": false
   },
   "outputs": [
    {
     "data": {
      "text/plain": [
       "['33',\n",
       " '89',\n",
       " '54',\n",
       " '90',\n",
       " '53',\n",
       " '87',\n",
       " '58',\n",
       " '87',\n",
       " '61',\n",
       " '79',\n",
       " '54',\n",
       " '78',\n",
       " '54',\n",
       " '71',\n",
       " '56',\n",
       " '70',\n",
       " '55',\n",
       " '62',\n",
       " '58',\n",
       " '60',\n",
       " '71',\n",
       " '60',\n",
       " '74',\n",
       " '58',\n",
       " '82',\n",
       " '58',\n",
       " '82',\n",
       " '61',\n",
       " '101',\n",
       " '61',\n",
       " '102',\n",
       " '64',\n",
       " '119',\n",
       " '64',\n",
       " '118',\n",
       " '59',\n",
       " '122',\n",
       " '56',\n",
       " '124',\n",
       " '56',\n",
       " '126',\n",
       " '53',\n",
       " '137',\n",
       " '53',\n",
       " '141',\n",
       " '57',\n",
       " '144',\n",
       " '54',\n",
       " '150',\n",
       " '54',\n",
       " '156',\n",
       " '42',\n",
       " '156',\n",
       " '40',\n",
       " '149',\n",
       " '39',\n",
       " '143',\n",
       " '38',\n",
       " '143',\n",
       " '34',\n",
       " '139',\n",
       " '33',\n",
       " '139',\n",
       " '31',\n",
       " '145',\n",
       " '23',\n",
       " '20',\n",
       " '23']"
      ]
     },
     "execution_count": 78,
     "metadata": {},
     "output_type": "execute_result"
    }
   ],
   "source": [
    "map_obs[0].area['coords'].split(',')"
   ]
  },
  {
   "cell_type": "code",
   "execution_count": 80,
   "metadata": {
    "collapsed": false
   },
   "outputs": [],
   "source": [
    "df = pd.DataFrame(columns=['x','y'])"
   ]
  }
 ],
 "metadata": {
  "kernelspec": {
   "display_name": "Python 3",
   "language": "python",
   "name": "python3"
  },
  "language_info": {
   "codemirror_mode": {
    "name": "ipython",
    "version": 3
   },
   "file_extension": ".py",
   "mimetype": "text/x-python",
   "name": "python",
   "nbconvert_exporter": "python",
   "pygments_lexer": "ipython3",
   "version": "3.5.1"
  }
 },
 "nbformat": 4,
 "nbformat_minor": 0
}
